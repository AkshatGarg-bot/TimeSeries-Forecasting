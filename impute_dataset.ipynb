{
 "cells": [
  {
   "cell_type": "code",
   "execution_count": 3,
   "metadata": {},
   "outputs": [],
   "source": [
    "import matplotlib.pyplot as plt\n",
    "import pandas as pd\n",
    "import tensorflow as tf\n",
    "from tqdm import tqdm\n",
    "import warnings\n",
    "import os\n",
    "import numpy as np\n",
    "from sklearn.experimental import enable_iterative_imputer\n",
    "from sklearn.impute import SimpleImputer, IterativeImputer\n",
    "warnings.filterwarnings('ignore')"
   ]
  },
  {
   "cell_type": "code",
   "execution_count": 4,
   "metadata": {},
   "outputs": [],
   "source": [
    "train = pd.read_parquet(\"/home/aimlproject1/train_low_mem.parquet\")\n",
    "labels= pd.read_csv('./label_.csv')"
   ]
  },
  {
   "cell_type": "code",
   "execution_count": 5,
   "metadata": {},
   "outputs": [],
   "source": []
  },
  {
   "cell_type": "code",
   "execution_count": 6,
   "metadata": {},
   "outputs": [
    {
     "name": "stdout",
     "output_type": "stream",
     "text": [
      "NO\n"
     ]
    },
    {
     "name": "stderr",
     "output_type": "stream",
     "text": [
      " 33%|███▎      | 2/6 [00:46<01:19, 19.95s/it]"
     ]
    }
   ],
   "source": [
    "def has_duplicate(train):\n",
    "    for i,g in train.groupby('investment_id'):\n",
    "        X = np.array(g['time_id'])\n",
    "        if(len(np.unique(X)) != len(X)):\n",
    "            return \"DUP\"\n",
    "    return \"NO\"\n",
    "print(has_duplicate(train))\n",
    "dict = {}\n",
    "x=[]\n",
    "for i,g in tqdm(train.groupby('label_feature')):\n",
    "    x = (abs(g.drop(['time_id','investment_id','label_feature'],axis=1).corr()['target'])).sort_values(ascending = False)\n",
    "    best_f = x.index[1:11]\n",
    "    dict[i] = best_f"
   ]
  },
  {
   "cell_type": "code",
   "execution_count": null,
   "metadata": {},
   "outputs": [],
   "source": [
    "\n",
    "for i,g in train.groupby('label_feature'): \n",
    "    t = ['investment_id','time_id'  , 'target',*dict[i] ]\n",
    "    g = g[[*t]].sort_values(by= [\"investment_id\" , \"time_id\"])\n",
    "    g.to_csv('cluster/' + str(i)  + \"_.csv\" , index=False)"
   ]
  },
  {
   "cell_type": "code",
   "execution_count": null,
   "metadata": {},
   "outputs": [],
   "source": [
    "def printMissing(arr, n, low, high):\n",
    "    l = [] \n",
    "    points_of_range = [False] * (high-low+1)\n",
    "     \n",
    "    for i in range(n) :\n",
    "        if ( low <= arr[i] and arr[i] <= high ) :\n",
    "            points_of_range[arr[i]-low] = True\n",
    "\n",
    "    for x in range(high-low+1) :\n",
    "        if (points_of_range[x]==False) :\n",
    "            l.append(low+x)\n",
    "    \n",
    "    return l \n",
    "def imputer(df) :\n",
    "\n",
    "    arr = df.to_numpy()\n",
    "    s = arr.mean(axis=0)\n",
    "    s = s.reshape(1,-1)\n",
    "    l = printMissing(arr , (len(arr)) , (int)(np.min(arr)) , (int)(np.max(arr)))\n",
    "    for i in l : \n",
    "        s[0][1] = i \n",
    "        arr=np.append(arr,s,axis=0)\n",
    "    # arr.sort_values(by = 'time_id')\n",
    "    arr = arr[arr[:,1].argsort()]\n",
    "    return arr \n"
   ]
  },
  {
   "cell_type": "code",
   "execution_count": null,
   "metadata": {},
   "outputs": [],
   "source": [
    "files = [\"0_\" , \"1_\" , \"2_\" , \"3_\" , \"-1_\" , \"4_\"]\n",
    "for i in tqdm(files): \n",
    "    PATH  = \"./cluster/\" + i + \".csv\"\n",
    "    frame = pd.read_csv(PATH) \n",
    "    grouped  = frame.groupby('investment_id')\n",
    "    for i,g in grouped :\n",
    "        print(i)\n",
    "        column_names = [str(s) for s in g.columns]\n",
    "        np_arr = imputer(g)\n",
    "        df = pd.DataFrame(data = np_arr,  \n",
    "                  columns = column_names)\n",
    "        print(has_duplicate(df))\n",
    "        df.to_csv('imp_mean.csv', mode='a', header=not os.path.exists('imp_mean.csv'))"
   ]
  },
  {
   "cell_type": "code",
   "execution_count": null,
   "metadata": {},
   "outputs": [],
   "source": [
    "r = pd.read_csv('./imp_mean.csv')\n",
    "r = r.drop('Unnamed: 0' , axis  = 1)"
   ]
  },
  {
   "cell_type": "code",
   "execution_count": null,
   "metadata": {},
   "outputs": [],
   "source": [
    "r.head()\n"
   ]
  },
  {
   "cell_type": "code",
   "execution_count": null,
   "metadata": {},
   "outputs": [],
   "source": [
    "def NA(df):\n",
    "    df = df.to_numpy()\n",
    "    inv_id = df[0][0]\n",
    "    min_max = ((int)(df.min(axis=0)[1]) , (int)(df.max(axis=0)[1]))\n",
    "\n",
    "    l=[]\n",
    "    for i in range(min_max[0],min_max[1]):\n",
    "        if i not in df[:, 1]:\n",
    "            l.append(i)\n",
    "    # print(l)\n",
    "    arr = np.empty((1,13))\n",
    "    arr[:] = np.nan\n",
    "    for i in l:\n",
    "        arr[0][0] = inv_id\n",
    "        arr[0][1] = i\n",
    "        df = np.concatenate((df, arr), axis=0)\n",
    "    df = df[df[:,1].argsort()]\n",
    "    return df\n",
    "\n",
    "\n",
    "\n",
    "files = [\"0_\" , \"1_\" , \"2_\" , \"3_\" , \"-1_\" , \"4_\"]\n",
    "for i in tqdm(files): \n",
    "    PATH  = \"./cluster/\" + i + \".csv\"\n",
    "    frame = pd.read_csv(PATH) \n",
    "    grouped  = frame.groupby('investment_id')\n",
    "    for i,g in grouped :\n",
    "        # print(i)\n",
    "        column_names = [str(s) for s in g.columns]\n",
    "        np_arr = NA(g)\n",
    "        df = pd.DataFrame(data = np_arr,columns = column_names)\n",
    "        iter_imputer = IterativeImputer(random_state=42)\n",
    "        iter_imputed = iter_imputer.fit_transform(df)\n",
    "        df = pd.DataFrame(iter_imputed, columns=df.columns)\n",
    "        df.to_csv('imp_itr.csv', mode='a', header=not os.path.exists('imp_itr.csv'))\n",
    "        \n"
   ]
  },
  {
   "cell_type": "code",
   "execution_count": null,
   "metadata": {},
   "outputs": [],
   "source": [
    "count = 0 \n",
    "r2 = pd.read_csv('./imp_itr.csv')\n",
    "# r2 = r.drop('Unnamed: 0' , axis  = 1)\n",
    "for i , g in r2.groupby(['investment_id']):\n",
    "      arr = np.array(g.time_id , dtype = int)\n",
    "      count+= len(printMissing(arr , (len(arr)) , (int)(np.min(arr)) , (int)(np.max(arr))))\n",
    "\n",
    "print(count)    "
   ]
  }
 ],
 "metadata": {
  "interpreter": {
   "hash": "916dbcbb3f70747c44a77c7bcd40155683ae19c65e1c03b4aa3499c5328201f1"
  },
  "kernelspec": {
   "display_name": "Python 3.8.10 64-bit",
   "language": "python",
   "name": "python3"
  },
  "language_info": {
   "codemirror_mode": {
    "name": "ipython",
    "version": 3
   },
   "file_extension": ".py",
   "mimetype": "text/x-python",
   "name": "python",
   "nbconvert_exporter": "python",
   "pygments_lexer": "ipython3",
   "version": "3.8.10"
  },
  "orig_nbformat": 4
 },
 "nbformat": 4,
 "nbformat_minor": 2
}
